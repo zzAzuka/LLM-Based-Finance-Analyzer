{
 "cells": [
  {
   "cell_type": "code",
   "execution_count": 17,
   "id": "f3659868-2036-4b1e-bfca-199471988c92",
   "metadata": {},
   "outputs": [],
   "source": [
    "#!pip install langchain_community\n",
    "import pandas as pd\n",
    "from langchain_community.llms import Ollama"
   ]
  },
  {
   "cell_type": "code",
   "execution_count": 18,
   "id": "d94f2d00-82ff-4f1a-b342-156f7fbfba3b",
   "metadata": {},
   "outputs": [
    {
     "data": {
      "text/plain": [
       "'Hello! How are you today? Is there something I can help you with or would you like to chat?'"
      ]
     },
     "execution_count": 18,
     "metadata": {},
     "output_type": "execute_result"
    }
   ],
   "source": [
    "llm = Ollama(model=\"llama3.1\")\n",
    "llm.invoke(\"Hello!\")"
   ]
  },
  {
   "cell_type": "markdown",
   "id": "b2aeb2ce-defe-42fa-b969-909fc9b17e11",
   "metadata": {},
   "source": [
    "## READ TRANSACTION DATA"
   ]
  },
  {
   "cell_type": "code",
   "execution_count": 19,
   "id": "78541d4a-2654-44a0-84cb-fbc6e93888c5",
   "metadata": {},
   "outputs": [
    {
     "data": {
      "text/html": [
       "<div>\n",
       "<style scoped>\n",
       "    .dataframe tbody tr th:only-of-type {\n",
       "        vertical-align: middle;\n",
       "    }\n",
       "\n",
       "    .dataframe tbody tr th {\n",
       "        vertical-align: top;\n",
       "    }\n",
       "\n",
       "    .dataframe thead th {\n",
       "        text-align: right;\n",
       "    }\n",
       "</style>\n",
       "<table border=\"1\" class=\"dataframe\">\n",
       "  <thead>\n",
       "    <tr style=\"text-align: right;\">\n",
       "      <th></th>\n",
       "      <th>Date</th>\n",
       "      <th>Name / Description</th>\n",
       "      <th>Expense/Income</th>\n",
       "      <th>Amount (EUR)</th>\n",
       "    </tr>\n",
       "  </thead>\n",
       "  <tbody>\n",
       "    <tr>\n",
       "      <th>0</th>\n",
       "      <td>30-12-2023</td>\n",
       "      <td>Monthly Appartment Rent</td>\n",
       "      <td>Expense</td>\n",
       "      <td>453.21</td>\n",
       "    </tr>\n",
       "    <tr>\n",
       "      <th>1</th>\n",
       "      <td>29-12-2023</td>\n",
       "      <td>Vattenfall Energy</td>\n",
       "      <td>Expense</td>\n",
       "      <td>98.45</td>\n",
       "    </tr>\n",
       "    <tr>\n",
       "      <th>2</th>\n",
       "      <td>28-12-2023</td>\n",
       "      <td>Albert Heijn Amsterdam</td>\n",
       "      <td>Expense</td>\n",
       "      <td>32.18</td>\n",
       "    </tr>\n",
       "    <tr>\n",
       "      <th>3</th>\n",
       "      <td>27-12-2023</td>\n",
       "      <td>Netflix NL</td>\n",
       "      <td>Expense</td>\n",
       "      <td>11.99</td>\n",
       "    </tr>\n",
       "    <tr>\n",
       "      <th>4</th>\n",
       "      <td>26-12-2023</td>\n",
       "      <td>Web Development</td>\n",
       "      <td>Income</td>\n",
       "      <td>1856.32</td>\n",
       "    </tr>\n",
       "  </tbody>\n",
       "</table>\n",
       "</div>"
      ],
      "text/plain": [
       "         Date       Name / Description Expense/Income  Amount (EUR)\n",
       "0  30-12-2023  Monthly Appartment Rent        Expense        453.21\n",
       "1  29-12-2023        Vattenfall Energy        Expense         98.45\n",
       "2  28-12-2023   Albert Heijn Amsterdam        Expense         32.18\n",
       "3  27-12-2023               Netflix NL        Expense         11.99\n",
       "4  26-12-2023          Web Development         Income       1856.32"
      ]
     },
     "execution_count": 19,
     "metadata": {},
     "output_type": "execute_result"
    }
   ],
   "source": [
    "df = pd.read_csv(r\"C:\\Users\\sibir\\Downloads\\transaction-data.csv\")\n",
    "df.head()"
   ]
  },
  {
   "cell_type": "code",
   "execution_count": 20,
   "id": "031edebf-613b-40f1-abad-87d838942046",
   "metadata": {},
   "outputs": [
    {
     "name": "stdout",
     "output_type": "stream",
     "text": [
      "50\n",
      "['Monthly Appartment Rent' 'Vattenfall Energy' 'Albert Heijn Amsterdam'\n",
      " 'Netflix NL' 'Web Development' 'Uber Amsterdam' 'Jumbo Supermarkt'\n",
      " 'Consulting' 'Starbucks Amsterdam' 'KPN Mobile' 'Lidl Amsterdam'\n",
      " 'Spotify Ab By Adyen' 'Translation Services' 'Shell Station'\n",
      " 'Pathé Cinema' 'Deliveroo' 'Content Writing' 'Ziggo Internet'\n",
      " 'Basic Fit Membership' 'Bol.com' 'Workshop Income' 'De Pijp Cafe'\n",
      " 'NS Railways' 'Kruidvat' 'Freelancing' 'Disney Plus' 'Tesco Breda'\n",
      " 'Photography Gig' 'MediaMarkt' 'Uber Eats' 'Youtube Revenue'\n",
      " 'GVB Amsterdam' 'H&M Amsterdam' 'Graphic Design' 'Foodhallen Amsterdam'\n",
      " 'Marqt Amsterdam' 'Beta Boulders Ams Amsterdam' 'Apple Services'\n",
      " 'Online Teaching' 'Paradiso Amsterdam' 'Water Company PWN'\n",
      " 'Airbnb Hosting' 'Etos Amsterdam' 'Blogging' 'IKEA Amsterdam'\n",
      " 'Tls Bv Inz Ov-Chipkaart' 'Selling Paintings' 'Melkweg Amsterdam'\n",
      " 'Vishandel Sier Amsterdam' 'Tk Maxx Amsterdam Da']\n"
     ]
    }
   ],
   "source": [
    "unique_transactions = df[\"Name / Description\"].unique()\n",
    "print(len(unique_transactions))\n",
    "print(unique_transactions)"
   ]
  },
  {
   "cell_type": "markdown",
   "id": "704a9474",
   "metadata": {},
   "source": [
    "## CATEGORIZING DESCRIPTIONS"
   ]
  },
  {
   "cell_type": "code",
   "execution_count": 21,
   "id": "996bb7cc-f510-41d3-a732-bd9a40331fd8",
   "metadata": {},
   "outputs": [
    {
     "data": {
      "text/plain": [
       "[0, 30, 50]"
      ]
     },
     "execution_count": 21,
     "metadata": {},
     "output_type": "execute_result"
    }
   ],
   "source": [
    "def categorize_transactions(transaction_names, llm):\n",
    "    response = llm.invoke(\"Assign an appropriate category to each expense listed. Examples: Netflix NL - Entertainment, Starbucks Amsterdam - Food and Beverages, Beta Boulders Ams Amsterdam Nld - Sport, etc.. Categories should be concise (less than 4 words). Format your output strictly as: Name - Category. Avoid adding any extra characters or explanations. Don't need to number them either. Just the format mentioned\" + transaction_names)\n",
    "    response = response.split('\\n')\n",
    "\n",
    "    categories = pd.DataFrame({\"Transaction and Category\":response})\n",
    "    categories[['Transaction', 'Category']] = categories['Transaction and Category'].str.split(' - ', expand=True)\n",
    "\n",
    "    return categories\n",
    "\n",
    "\n",
    "#categorize_transactions(str(unique_transactions[1:30]), llm)\n",
    "\n",
    "def hop(start, stop, step):\n",
    "    for i in range(start, stop, step):\n",
    "        yield i\n",
    "    yield stop\n",
    "\n",
    "index_list = list(hop(0, len(unique_transactions), 30))\n",
    "index_list"
   ]
  },
  {
   "cell_type": "code",
   "execution_count": 22,
   "id": "609df395-a338-47b5-93e3-d4c49dc9636b",
   "metadata": {},
   "outputs": [],
   "source": [
    "categories_df_all = pd.DataFrame()\n",
    "\n",
    "for i in range(0, len(index_list)-1):\n",
    "    transactions_names = str(unique_transactions[index_list[i]:index_list[i+1]])\n",
    "\n",
    "    categories = categorize_transactions(transactions_names, llm)\n",
    "    categories_df_all = pd.concat([categories_df_all, categories], ignore_index=True)"
   ]
  },
  {
   "cell_type": "code",
   "execution_count": 23,
   "id": "c29021fe",
   "metadata": {},
   "outputs": [
    {
     "data": {
      "text/plain": [
       "array(['Housing', 'Utilities', 'Food and Beverages', 'Entertainment',\n",
       "       'Freelancing', 'Transportation', 'Telecommunications', 'Fuel',\n",
       "       'Sport', 'Shopping', 'Income', 'Business', None, 'Services',\n",
       "       'Subscription', 'Education', 'Health and Beauty'], dtype=object)"
      ]
     },
     "execution_count": 23,
     "metadata": {},
     "output_type": "execute_result"
    }
   ],
   "source": [
    "unique_classes = categories_df_all[\"Category\"].unique()\n",
    "categories_df_all = categories_df_all.dropna()\n",
    "unique_classes"
   ]
  },
  {
   "cell_type": "code",
   "execution_count": 27,
   "id": "e76efefb",
   "metadata": {},
   "outputs": [
    {
     "data": {
      "text/html": [
       "<div>\n",
       "<style scoped>\n",
       "    .dataframe tbody tr th:only-of-type {\n",
       "        vertical-align: middle;\n",
       "    }\n",
       "\n",
       "    .dataframe tbody tr th {\n",
       "        vertical-align: top;\n",
       "    }\n",
       "\n",
       "    .dataframe thead th {\n",
       "        text-align: right;\n",
       "    }\n",
       "</style>\n",
       "<table border=\"1\" class=\"dataframe\">\n",
       "  <thead>\n",
       "    <tr style=\"text-align: right;\">\n",
       "      <th></th>\n",
       "      <th>Date</th>\n",
       "      <th>Name / Description</th>\n",
       "      <th>Expense/Income</th>\n",
       "      <th>Amount (EUR)</th>\n",
       "      <th>Transaction and Category</th>\n",
       "      <th>Transaction</th>\n",
       "      <th>Category</th>\n",
       "    </tr>\n",
       "  </thead>\n",
       "  <tbody>\n",
       "    <tr>\n",
       "      <th>0</th>\n",
       "      <td>30-12-2023</td>\n",
       "      <td>Monthly Appartment Rent</td>\n",
       "      <td>Expense</td>\n",
       "      <td>453.21</td>\n",
       "      <td>Monthly Appartment Rent - Housing</td>\n",
       "      <td>Monthly Appartment Rent</td>\n",
       "      <td>Housing</td>\n",
       "    </tr>\n",
       "    <tr>\n",
       "      <th>1</th>\n",
       "      <td>29-12-2023</td>\n",
       "      <td>Vattenfall Energy</td>\n",
       "      <td>Expense</td>\n",
       "      <td>98.45</td>\n",
       "      <td>Vattenfall Energy - Utilities</td>\n",
       "      <td>Vattenfall Energy</td>\n",
       "      <td>Utilities</td>\n",
       "    </tr>\n",
       "    <tr>\n",
       "      <th>2</th>\n",
       "      <td>28-12-2023</td>\n",
       "      <td>Albert Heijn Amsterdam</td>\n",
       "      <td>Expense</td>\n",
       "      <td>32.18</td>\n",
       "      <td>Albert Heijn Amsterdam - Food and Beverages</td>\n",
       "      <td>Albert Heijn Amsterdam</td>\n",
       "      <td>Food and Beverages</td>\n",
       "    </tr>\n",
       "    <tr>\n",
       "      <th>3</th>\n",
       "      <td>27-12-2023</td>\n",
       "      <td>Netflix NL</td>\n",
       "      <td>Expense</td>\n",
       "      <td>11.99</td>\n",
       "      <td>Netflix NL - Entertainment</td>\n",
       "      <td>Netflix NL</td>\n",
       "      <td>Entertainment</td>\n",
       "    </tr>\n",
       "    <tr>\n",
       "      <th>4</th>\n",
       "      <td>26-12-2023</td>\n",
       "      <td>Web Development</td>\n",
       "      <td>Income</td>\n",
       "      <td>1856.32</td>\n",
       "      <td>Web Development - Freelancing</td>\n",
       "      <td>Web Development</td>\n",
       "      <td>Freelancing</td>\n",
       "    </tr>\n",
       "    <tr>\n",
       "      <th>...</th>\n",
       "      <td>...</td>\n",
       "      <td>...</td>\n",
       "      <td>...</td>\n",
       "      <td>...</td>\n",
       "      <td>...</td>\n",
       "      <td>...</td>\n",
       "      <td>...</td>\n",
       "    </tr>\n",
       "    <tr>\n",
       "      <th>114</th>\n",
       "      <td>05-09-2023</td>\n",
       "      <td>Spotify Ab By Adyen</td>\n",
       "      <td>Expense</td>\n",
       "      <td>12.19</td>\n",
       "      <td>Spotify Ab By Adyen - Entertainment</td>\n",
       "      <td>Spotify Ab By Adyen</td>\n",
       "      <td>Entertainment</td>\n",
       "    </tr>\n",
       "    <tr>\n",
       "      <th>115</th>\n",
       "      <td>04-09-2023</td>\n",
       "      <td>Consulting</td>\n",
       "      <td>Income</td>\n",
       "      <td>2345.67</td>\n",
       "      <td>Consulting - Freelancing</td>\n",
       "      <td>Consulting</td>\n",
       "      <td>Freelancing</td>\n",
       "    </tr>\n",
       "    <tr>\n",
       "      <th>116</th>\n",
       "      <td>03-09-2023</td>\n",
       "      <td>Deliveroo</td>\n",
       "      <td>Expense</td>\n",
       "      <td>29.90</td>\n",
       "      <td>Deliveroo - Food and Beverages</td>\n",
       "      <td>Deliveroo</td>\n",
       "      <td>Food and Beverages</td>\n",
       "    </tr>\n",
       "    <tr>\n",
       "      <th>117</th>\n",
       "      <td>02-09-2023</td>\n",
       "      <td>KPN Mobile</td>\n",
       "      <td>Expense</td>\n",
       "      <td>29.99</td>\n",
       "      <td>KPN Mobile - Telecommunications</td>\n",
       "      <td>KPN Mobile</td>\n",
       "      <td>Telecommunications</td>\n",
       "    </tr>\n",
       "    <tr>\n",
       "      <th>118</th>\n",
       "      <td>01-09-2023</td>\n",
       "      <td>Albert Heijn Amsterdam</td>\n",
       "      <td>Expense</td>\n",
       "      <td>39.45</td>\n",
       "      <td>Albert Heijn Amsterdam - Food and Beverages</td>\n",
       "      <td>Albert Heijn Amsterdam</td>\n",
       "      <td>Food and Beverages</td>\n",
       "    </tr>\n",
       "  </tbody>\n",
       "</table>\n",
       "<p>119 rows × 7 columns</p>\n",
       "</div>"
      ],
      "text/plain": [
       "           Date       Name / Description Expense/Income  Amount (EUR)  \\\n",
       "0    30-12-2023  Monthly Appartment Rent        Expense        453.21   \n",
       "1    29-12-2023        Vattenfall Energy        Expense         98.45   \n",
       "2    28-12-2023   Albert Heijn Amsterdam        Expense         32.18   \n",
       "3    27-12-2023               Netflix NL        Expense         11.99   \n",
       "4    26-12-2023          Web Development         Income       1856.32   \n",
       "..          ...                      ...            ...           ...   \n",
       "114  05-09-2023      Spotify Ab By Adyen        Expense         12.19   \n",
       "115  04-09-2023               Consulting         Income       2345.67   \n",
       "116  03-09-2023                Deliveroo        Expense         29.90   \n",
       "117  02-09-2023               KPN Mobile        Expense         29.99   \n",
       "118  01-09-2023   Albert Heijn Amsterdam        Expense         39.45   \n",
       "\n",
       "                        Transaction and Category              Transaction  \\\n",
       "0              Monthly Appartment Rent - Housing  Monthly Appartment Rent   \n",
       "1                  Vattenfall Energy - Utilities        Vattenfall Energy   \n",
       "2    Albert Heijn Amsterdam - Food and Beverages   Albert Heijn Amsterdam   \n",
       "3                     Netflix NL - Entertainment               Netflix NL   \n",
       "4                  Web Development - Freelancing          Web Development   \n",
       "..                                           ...                      ...   \n",
       "114          Spotify Ab By Adyen - Entertainment      Spotify Ab By Adyen   \n",
       "115                     Consulting - Freelancing               Consulting   \n",
       "116               Deliveroo - Food and Beverages                Deliveroo   \n",
       "117              KPN Mobile - Telecommunications               KPN Mobile   \n",
       "118  Albert Heijn Amsterdam - Food and Beverages   Albert Heijn Amsterdam   \n",
       "\n",
       "               Category  \n",
       "0               Housing  \n",
       "1             Utilities  \n",
       "2    Food and Beverages  \n",
       "3         Entertainment  \n",
       "4           Freelancing  \n",
       "..                  ...  \n",
       "114       Entertainment  \n",
       "115         Freelancing  \n",
       "116  Food and Beverages  \n",
       "117  Telecommunications  \n",
       "118  Food and Beverages  \n",
       "\n",
       "[119 rows x 7 columns]"
      ]
     },
     "execution_count": 27,
     "metadata": {},
     "output_type": "execute_result"
    }
   ],
   "source": [
    "df_needed = pd.read_csv(r\"C:\\Users\\sibir\\Downloads\\transaction-data.csv\")\n",
    "df_needed = pd.merge(df_needed, categories_df_all, left_on=\"Name / Description\", right_on=\"Transaction\", how=\"left\")\n",
    "df_needed"
   ]
  },
  {
   "cell_type": "code",
   "execution_count": 28,
   "id": "ded2770f",
   "metadata": {},
   "outputs": [],
   "source": [
    "df_needed.to_csv(\"transactions_zen_categorized.csv\", index=False)"
   ]
  }
 ],
 "metadata": {
  "kernelspec": {
   "display_name": "base",
   "language": "python",
   "name": "python3"
  },
  "language_info": {
   "codemirror_mode": {
    "name": "ipython",
    "version": 3
   },
   "file_extension": ".py",
   "mimetype": "text/x-python",
   "name": "python",
   "nbconvert_exporter": "python",
   "pygments_lexer": "ipython3",
   "version": "3.12.7"
  }
 },
 "nbformat": 4,
 "nbformat_minor": 5
}
